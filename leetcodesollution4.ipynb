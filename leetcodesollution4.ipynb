{
  "nbformat": 4,
  "nbformat_minor": 0,
  "metadata": {
    "colab": {
      "provenance": []
    },
    "kernelspec": {
      "name": "python3",
      "display_name": "Python 3"
    },
    "language_info": {
      "name": "python"
    }
  },
  "cells": [
    {
      "cell_type": "code",
      "execution_count": 1,
      "metadata": {
        "colab": {
          "base_uri": "https://localhost:8080/"
        },
        "id": "aWs5V1ZXZnEV",
        "outputId": "1cc3984c-6e66-41f8-ba9f-e1055ac6b4c2"
      },
      "outputs": [
        {
          "output_type": "stream",
          "name": "stdout",
          "text": [
            "True\n",
            "False\n"
          ]
        }
      ],
      "source": [
        "class Solution:\n",
        "    def canPlaceFlowers(self, flowerbed, n):\n",
        "        count = 0\n",
        "        length = len(flowerbed)\n",
        "\n",
        "        i = 0\n",
        "        while i < length:\n",
        "            if flowerbed[i] == 0:\n",
        "                empty_left = (i == 0) or (flowerbed[i - 1] == 0)\n",
        "                empty_right = (i == length - 1) or (flowerbed[i + 1] == 0)\n",
        "\n",
        "                if empty_left and empty_right:\n",
        "                    count += 1\n",
        "                    i += 1\n",
        "\n",
        "                    if count >= n:\n",
        "                        return True\n",
        "            i += 1\n",
        "\n",
        "        return count >= n\n",
        "\n",
        "\n",
        "flowerbed = [1, 0, 0, 0, 1]\n",
        "solution = Solution()\n",
        "\n",
        "print(solution.canPlaceFlowers(flowerbed, 1))\n",
        "print(solution.canPlaceFlowers(flowerbed, 2))\n"
      ]
    }
  ]
}