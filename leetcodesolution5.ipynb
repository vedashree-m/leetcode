{
  "nbformat": 4,
  "nbformat_minor": 0,
  "metadata": {
    "colab": {
      "provenance": []
    },
    "kernelspec": {
      "name": "python3",
      "display_name": "Python 3"
    },
    "language_info": {
      "name": "python"
    }
  },
  "cells": [
    {
      "cell_type": "code",
      "execution_count": 1,
      "metadata": {
        "colab": {
          "base_uri": "https://localhost:8080/"
        },
        "id": "AtgqsJLaaN2m",
        "outputId": "55197609-84ff-47d4-adce-858740bdb603"
      },
      "outputs": [
        {
          "output_type": "stream",
          "name": "stdout",
          "text": [
            "holle\n",
            "leotcede\n"
          ]
        }
      ],
      "source": [
        "class Solution:\n",
        "    def reverseVowels(self, s):\n",
        "        vowels = set('aeiouAEIOU')\n",
        "        s = list(s)\n",
        "        left, right = 0, len(s) - 1\n",
        "\n",
        "        while left < right:\n",
        "            if s[left] not in vowels:\n",
        "                left += 1\n",
        "            elif s[right] not in vowels:\n",
        "                right -= 1\n",
        "            else:\n",
        "                s[left], s[right] = s[right], s[left]\n",
        "                left += 1\n",
        "                right -= 1\n",
        "\n",
        "        return ''.join(s)\n",
        "s = \"hello\"\n",
        "solution = Solution()\n",
        "print(solution.reverseVowels(s))\n",
        "s = \"leetcode\"\n",
        "print(solution.reverseVowels(s))"
      ]
    }
  ]
}