{
  "nbformat": 4,
  "nbformat_minor": 0,
  "metadata": {
    "colab": {
      "provenance": []
    },
    "kernelspec": {
      "name": "python3",
      "display_name": "Python 3"
    },
    "language_info": {
      "name": "python"
    }
  },
  "cells": [
    {
      "cell_type": "code",
      "execution_count": 1,
      "metadata": {
        "colab": {
          "base_uri": "https://localhost:8080/"
        },
        "id": "ZIROzUUjXlkY",
        "outputId": "55e9f052-1392-4a01-ebf0-5b7a02a3917e"
      },
      "outputs": [
        {
          "output_type": "stream",
          "name": "stdout",
          "text": [
            "[True, True, True, False, True]\n"
          ]
        }
      ],
      "source": [
        "class Solution:\n",
        "    def kidsWithCandies(self, candies, extraCandies):\n",
        "        max_candies = max(candies)\n",
        "        return [candy + extraCandies >= max_candies for candy in candies]\n",
        "\n",
        "\n",
        "solution = Solution()\n",
        "candies = [2, 3, 5, 1, 3]\n",
        "extraCandies = 3\n",
        "print(solution.kidsWithCandies(candies, extraCandies))\n"
      ]
    }
  ]
}