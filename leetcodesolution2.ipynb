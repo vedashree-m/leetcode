{
  "nbformat": 4,
  "nbformat_minor": 0,
  "metadata": {
    "colab": {
      "provenance": []
    },
    "kernelspec": {
      "name": "python3",
      "display_name": "Python 3"
    },
    "language_info": {
      "name": "python"
    }
  },
  "cells": [
    {
      "cell_type": "code",
      "source": [
        "class Solution:\n",
        "    def gcdOfStrings(self, str1, str2):\n",
        "\n",
        "        def gcd(a, b):\n",
        "            while b:\n",
        "                a, b = b, a % b\n",
        "            return a\n",
        "\n",
        "\n",
        "        if str1 + str2 != str2 + str1:\n",
        "            return \"\"\n",
        "\n",
        "\n",
        "        gcd_length = gcd(len(str1), len(str2))\n",
        "\n",
        "\n",
        "        return str1[:gcd_length]\n",
        "\n",
        "\n",
        "solution = Solution()\n",
        "str1 = \"ABABAB\"\n",
        "str2 = \"ABAB\"\n",
        "print(solution.gcdOfStrings(str1, str2))"
      ],
      "metadata": {
        "colab": {
          "base_uri": "https://localhost:8080/"
        },
        "id": "wP8y_UClXXLA",
        "outputId": "6a24d53b-dc82-49e0-f2d9-eb2c58013d98"
      },
      "execution_count": 1,
      "outputs": [
        {
          "output_type": "stream",
          "name": "stdout",
          "text": [
            "AB\n"
          ]
        }
      ]
    }
  ]
}