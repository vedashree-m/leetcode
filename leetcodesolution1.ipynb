{
  "nbformat": 4,
  "nbformat_minor": 0,
  "metadata": {
    "colab": {
      "provenance": []
    },
    "kernelspec": {
      "name": "python3",
      "display_name": "Python 3"
    },
    "language_info": {
      "name": "python"
    }
  },
  "cells": [
    {
      "cell_type": "code",
      "execution_count": 1,
      "metadata": {
        "colab": {
          "base_uri": "https://localhost:8080/"
        },
        "id": "NerOciMbW3cO",
        "outputId": "439dc2f9-e69b-4300-8255-98eb25296282"
      },
      "outputs": [
        {
          "output_type": "stream",
          "name": "stdout",
          "text": [
            "apbqcrstu\n"
          ]
        }
      ],
      "source": [
        "def merge_alternately(word1, word2):\n",
        "    merged = []\n",
        "    len1, len2 = len(word1), len(word2)\n",
        "    min_len = min(len1, len2)\n",
        "    for i in range(min_len):\n",
        "        merged.append(word1[i])\n",
        "        merged.append(word2[i])\n",
        "    if len1 > len2:\n",
        "        merged.append(word1[min_len:])\n",
        "    elif len2 > len1:\n",
        "        merged.append(word2[min_len:])\n",
        "    return ''.join(merged)\n",
        "word1 = \"abc\"\n",
        "word2 = \"pqrstu\"\n",
        "result = merge_alternately(word1, word2)\n",
        "print(result)"
      ]
    }
  ]
}